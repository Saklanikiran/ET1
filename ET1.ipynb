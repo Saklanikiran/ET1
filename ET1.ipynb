{
 "cells": [
  {
   "cell_type": "markdown",
   "id": "64cd39cb-0bb8-472b-8803-7b6238a8c954",
   "metadata": {},
   "source": [
    "# Ans : 1"
   ]
  },
  {
   "cell_type": "code",
   "execution_count": null,
   "id": "c813215b-4491-4608-8ea6-33b23836f595",
   "metadata": {},
   "outputs": [],
   "source": []
  },
  {
   "cell_type": "markdown",
   "id": "3f8af869-0c86-488c-8659-83a46e224ad4",
   "metadata": {},
   "source": [
    "# Ans : 2"
   ]
  },
  {
   "cell_type": "code",
   "execution_count": null,
   "id": "582284a3-13e3-4572-937f-2eb1879c89b0",
   "metadata": {},
   "outputs": [],
   "source": []
  },
  {
   "cell_type": "markdown",
   "id": "97eb986d-ac53-44e4-9c9c-50c60eb00c43",
   "metadata": {},
   "source": [
    "# Ans : 3"
   ]
  },
  {
   "cell_type": "code",
   "execution_count": null,
   "id": "6a29d141-3795-4be5-91c7-0b03d04e27fe",
   "metadata": {},
   "outputs": [],
   "source": [
    "'''\n",
    "Bagging (Bootstrap Aggregating): An ensemble technique where multiple instances of a model are trained on different\n",
    "subsets of the data (created using bootstrapping) and their predictions are aggregated (typically by averaging for regression or \n",
    "voting for classification).\n",
    "\n",
    "'''"
   ]
  },
  {
   "cell_type": "markdown",
   "id": "d6c65823-1db3-4d00-a044-c14ec6fc5118",
   "metadata": {},
   "source": [
    "# Ans : 4"
   ]
  },
  {
   "cell_type": "code",
   "execution_count": null,
   "id": "021659cf-ba9b-4c02-817f-efcb78b7cdbc",
   "metadata": {},
   "outputs": [],
   "source": [
    "'''\n",
    "Boosting: An ensemble technique that sequentially trains models, each focusing on correcting the errors of its predecessors. \n",
    "Models are added iteratively, and the final prediction is a weighted combination of all models.\n",
    "\n",
    "'''"
   ]
  },
  {
   "cell_type": "markdown",
   "id": "d1955e67-d428-48e0-9e36-138777ae8b58",
   "metadata": {},
   "source": [
    "# Ans : 5"
   ]
  },
  {
   "cell_type": "code",
   "execution_count": null,
   "id": "1cf7812f-ed41-4409-b496-bc28b5f4a867",
   "metadata": {},
   "outputs": [],
   "source": [
    "'''\n",
    "Benefits:\n",
    "Improved Accuracy: Combines the strengths of multiple models.\n",
    "Robustness: Reduces overfitting and variance.\n",
    "Stability: More reliable and consistent predictions.\n",
    "\n",
    "'''\n"
   ]
  },
  {
   "cell_type": "markdown",
   "id": "752e19aa-24be-48b7-b19c-70a40e659174",
   "metadata": {},
   "source": [
    "# Ans : 6"
   ]
  },
  {
   "cell_type": "code",
   "execution_count": null,
   "id": "311cb40e-7040-456d-b952-9f39af2723a1",
   "metadata": {},
   "outputs": [],
   "source": [
    "'''\n",
    "Not Always: While ensemble methods often improve performance, they can be more complex, computationally expensive,\n",
    "and harder to interpret. In some cases, a well-tuned single model might perform just as well or better.\n",
    "\n",
    "'''"
   ]
  },
  {
   "cell_type": "markdown",
   "id": "6287a089-f992-4de6-ac18-ac42e75301f3",
   "metadata": {},
   "source": [
    "# Ans : 7"
   ]
  },
  {
   "cell_type": "code",
   "execution_count": null,
   "id": "1d46b830-2ffa-418f-9553-743281b7213e",
   "metadata": {},
   "outputs": [],
   "source": [
    "'''\n",
    "Bootstrap Confidence Interval:\n",
    "Resampling: Generate many bootstrap samples from the original data by sampling with replacement.\n",
    "Statistic Calculation: Calculate the desired statistic (e.g., mean) for each bootstrap sample.\n",
    "Interval Estimation: Determine the confidence interval from the distribution of bootstrap statistics, typically by taking the appropriate percentiles (e.g., 2.5th and 97.5th percentiles for a 95% confidence interval).\n",
    "\n",
    "'''"
   ]
  },
  {
   "cell_type": "markdown",
   "id": "999d738b-ec8b-4717-a469-2dee59801e83",
   "metadata": {},
   "source": [
    "# Ans : 8"
   ]
  },
  {
   "cell_type": "code",
   "execution_count": null,
   "id": "696148c1-c34f-403a-b44f-62c1b407ed32",
   "metadata": {},
   "outputs": [],
   "source": [
    "'''\n",
    "Bootstrap Process:\n",
    "Sample Generation: Create multiple bootstrap samples by randomly sampling with replacement from the original dataset.\n",
    "Statistic Calculation: Calculate the statistic of interest (e.g., mean, median) for each bootstrap sample.\n",
    "Distribution Formation: Form a distribution of the calculated statistics from all bootstrap samples.\n",
    "Confidence Interval: Estimate the confidence interval from this distribution by selecting the appropriate percentiles.\n",
    "\n",
    "'''"
   ]
  }
 ],
 "metadata": {
  "kernelspec": {
   "display_name": "Python 3 (ipykernel)",
   "language": "python",
   "name": "python3"
  },
  "language_info": {
   "codemirror_mode": {
    "name": "ipython",
    "version": 3
   },
   "file_extension": ".py",
   "mimetype": "text/x-python",
   "name": "python",
   "nbconvert_exporter": "python",
   "pygments_lexer": "ipython3",
   "version": "3.10.8"
  }
 },
 "nbformat": 4,
 "nbformat_minor": 5
}
